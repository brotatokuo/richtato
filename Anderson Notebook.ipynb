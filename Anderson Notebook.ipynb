{
 "cells": [
  {
   "cell_type": "code",
   "execution_count": 92,
   "metadata": {},
   "outputs": [],
   "source": [
    "import pandas as pd\n",
    "import os "
   ]
  },
  {
   "cell_type": "code",
   "execution_count": 93,
   "metadata": {},
   "outputs": [],
   "source": [
    "def organize_bofa_statement (imported_data_sheet,bank_name):\n",
    "   df_table = pd.read_csv(imported_data_sheet, header=0)\n",
    "   df_table = df_table.rename(columns={\n",
    "      'Posted Date': 'Date',\n",
    "      'Payee': 'Description'\n",
    "   })\n",
    "   \n",
    "   df_table = df_table[['Date', 'Description', 'Amount']]\n",
    "   df_table['Amount'] = -1 * df_table['Amount']\n",
    "   df_table['Card'] = bank_name\n",
    "   return df_table\n",
    "\n"
   ]
  },
  {
   "cell_type": "code",
   "execution_count": 94,
   "metadata": {},
   "outputs": [],
   "source": [
    "def organize_amex_statement (imported_data_sheet,bank_name):\n",
    "   df_table = pd.read_excel(imported_data_sheet, sheet_name=0, header=6)\n",
    "   df_table = df_table[['Date', 'Description', 'Amount']]\n",
    "   df_table['Card'] = bank_name\n",
    "   return df_table"
   ]
  },
  {
   "cell_type": "code",
   "execution_count": 95,
   "metadata": {},
   "outputs": [],
   "source": [
    "def organize_citi_statement (imported_data_sheet,bank_name):\n",
    "   df_table = pd.read_csv(imported_data_sheet, header=0)\n",
    "   df_table['Amount'] = df_table['Debit'] + df_table['Credit']\n",
    "   df_table = df_table[['Date', 'Description', 'Amount']]\n",
    "   df_table['Card'] = bank_name\n",
    "   return df_table\n"
   ]
  },
  {
   "cell_type": "code",
   "execution_count": 96,
   "metadata": {},
   "outputs": [
    {
     "name": "stdout",
     "output_type": "stream",
     "text": [
      "amex Files: ['activity.xlsx', 'activity1.xlsx']\n",
      "master_data_sheet c:\\Users\\Alan\\OneDrive\\Desktop\\Richtato\\sample_data\\master_data.csv\n",
      "Imported Data Sheet:  c:\\Users\\Alan\\OneDrive\\Desktop\\Richtato\\sample_data\\amex\\activity.xlsx\n",
      "master_data_sheet c:\\Users\\Alan\\OneDrive\\Desktop\\Richtato\\sample_data\\master_data.csv\n",
      "Imported Data Sheet:  c:\\Users\\Alan\\OneDrive\\Desktop\\Richtato\\sample_data\\amex\\activity1.xlsx\n",
      "bofa Files: ['December2024_8737.csv']\n",
      "master_data_sheet c:\\Users\\Alan\\OneDrive\\Desktop\\Richtato\\sample_data\\master_data.csv\n",
      "Imported Data Sheet:  c:\\Users\\Alan\\OneDrive\\Desktop\\Richtato\\sample_data\\bofa\\December2024_8737.csv\n",
      "citi Files: ['Last year (2024) (1).CSV']\n",
      "master_data_sheet c:\\Users\\Alan\\OneDrive\\Desktop\\Richtato\\sample_data\\master_data.csv\n",
      "Imported Data Sheet:  c:\\Users\\Alan\\OneDrive\\Desktop\\Richtato\\sample_data\\citi\\Last year (2024) (1).CSV\n"
     ]
    },
    {
     "name": "stderr",
     "output_type": "stream",
     "text": [
      "c:\\Users\\Alan\\anaconda3\\Lib\\site-packages\\openpyxl\\styles\\stylesheet.py:226: UserWarning: Workbook contains no default style, apply openpyxl's default\n",
      "  warn(\"Workbook contains no default style, apply openpyxl's default\")\n",
      "c:\\Users\\Alan\\anaconda3\\Lib\\site-packages\\openpyxl\\styles\\stylesheet.py:226: UserWarning: Workbook contains no default style, apply openpyxl's default\n",
      "  warn(\"Workbook contains no default style, apply openpyxl's default\")\n"
     ]
    }
   ],
   "source": [
    "df_master = pd.DataFrame()\n",
    "current_directory = os.getcwd()\n",
    "sample_data_path = os.path.join(current_directory,'sample_data')\n",
    "directories = [d for d in os.listdir(sample_data_path) if os.path.isdir(os.path.join(sample_data_path, d))]\n",
    "master_data_sheet = os.path.join(sample_data_path,'master_data.csv')\n",
    "\n",
    "for bank in directories:\n",
    "   bank_path = os.path.join(sample_data_path,bank)\n",
    "   files = [f for f in os.listdir(bank_path) if os.path.isfile(os.path.join(bank_path, f))]\n",
    "   print(f\"{bank} Files: {files}\")\n",
    "   for file in files:\n",
    "      imported_data_sheet = os.path.join(bank_path,file)\n",
    "      print(\"master_data_sheet\", master_data_sheet)\n",
    "      print(\"Imported Data Sheet: \",imported_data_sheet)\n",
    "      if bank.lower() == \"bofa\":\n",
    "         df = organize_bofa_statement(imported_data_sheet,bank)\n",
    "      elif bank.lower() == \"amex\":\n",
    "         df = organize_amex_statement(imported_data_sheet,bank)\n",
    "      elif bank.lower() == \"citi\":\n",
    "         df = organize_citi_statement(imported_data_sheet,bank)\n",
    "\n",
    "      df_master = pd.concat([df_master, df], ignore_index=True)\n",
    "\n",
    "df_master.to_csv(master_data_sheet, index=False)"
   ]
  }
 ],
 "metadata": {
  "kernelspec": {
   "display_name": "base",
   "language": "python",
   "name": "python3"
  },
  "language_info": {
   "codemirror_mode": {
    "name": "ipython",
    "version": 3
   },
   "file_extension": ".py",
   "mimetype": "text/x-python",
   "name": "python",
   "nbconvert_exporter": "python",
   "pygments_lexer": "ipython3",
   "version": "3.11.7"
  }
 },
 "nbformat": 4,
 "nbformat_minor": 2
}
