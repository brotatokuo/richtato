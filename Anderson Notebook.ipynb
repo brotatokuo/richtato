{
 "cells": [
  {
   "cell_type": "code",
   "execution_count": 3,
   "metadata": {},
   "outputs": [
    {
     "name": "stdout",
     "output_type": "stream",
     "text": [
      "oh cool\n"
     ]
    }
   ],
   "source": [
    "import pandas as pd\n",
    "\n",
    "def organize_bank_statement (master_data_sheet,imported_data_sheet_set,bank_name):\n",
    "   for imported_data_sheet in imported_data_sheet_set: \n",
    "      master_data_sheet = pd.DataFrame()\n",
    "      if bank_name.lower() == \"bank of america\":\n",
    "         organize_bofa_statement(master_data_sheet,imported_data_sheet,bank_name)\n",
    "      if bank_name.lower() == \"amex\":\n",
    "         organize_amex_statement(master_data_sheet,imported_data_sheet,bank_name)\n",
    "      if bank_name.lower() == \"citibank\":\n",
    "         organize_citi_statement(master_data_sheet,imported_data_sheet,bank_name)\n",
    "      "
   ]
  },
  {
   "cell_type": "code",
   "execution_count": 8,
   "metadata": {},
   "outputs": [],
   "source": [
    "def organize_bofa_statement (master_data_sheet,imported_data_sheet,bank_name):\n",
    "   df_table = pd.read_csv(imported_data_sheet, header=2)\n",
    "   df_table = df_table.rename(columns={\n",
    "      'Posted_Date': 'Date',\n",
    "      'Payee': 'Description'\n",
    "   })\n",
    "   df_table = df_table[['Date', 'Description', 'Amount']]\n",
    "   df_table['Category'] = 'Uncategorized'\n",
    "   df_table['Card'] = bank_name\n",
    "   master_data_sheet = pd.concat([master_data_sheet, df_table], ignore_index=True)\n",
    "   return master_data_sheet[['Date', 'Description', 'Amount','Category','Card']]\n",
    "\n"
   ]
  },
  {
   "cell_type": "code",
   "execution_count": null,
   "metadata": {},
   "outputs": [],
   "source": [
    "def organize_amex_statement (master_data_sheet,imported_data_sheet,bank_name):\n",
    "   df_table = pd.read_csv(imported_data_sheet, header=2)\n",
    "   df_table = df_table[['Date', 'Description', 'Debit','Credit']]\n",
    "   df_table['Amount'] = df_table['Debit'] + df_table['Debit']\n",
    "   df_table['Category'] = 'Uncategorized'\n",
    "   df_table['Card'] = bank_name\n",
    "   master_data_sheet = pd.concat([master_data_sheet, df_table], ignore_index=True)\n",
    "   return master_data_sheet[['Date', 'Description', 'Amount','Category','Card']]\n"
   ]
  },
  {
   "cell_type": "code",
   "execution_count": null,
   "metadata": {},
   "outputs": [],
   "source": [
    "def organize_citi_statement (master_data_sheet,imported_data_sheet,bank_name):\n",
    "   df_table = pd.read_excel(imported_data_sheet, header=2)\n",
    "   df_table = df_table[['Date', 'Description', 'Amount']]\n",
    "   df_table['Category'] = 'Uncategorized'\n",
    "   df_table['Card'] = bank_name\n",
    "   master_data_sheet = pd.concat([master_data_sheet, df_table], ignore_index=True)\n",
    "   return master_data_sheet[['Date', 'Description', 'Amount','Category','Card']]\n",
    "\n"
   ]
  },
  {
   "cell_type": "code",
   "execution_count": null,
   "metadata": {},
   "outputs": [],
   "source": [
    "#for testing purposes\n",
    "#master_data_sheet = \n",
    "#imported_data_sheet = \n"
   ]
  }
 ],
 "metadata": {
  "kernelspec": {
   "display_name": "Python 3",
   "language": "python",
   "name": "python3"
  },
  "language_info": {
   "codemirror_mode": {
    "name": "ipython",
    "version": 3
   },
   "file_extension": ".py",
   "mimetype": "text/x-python",
   "name": "python",
   "nbconvert_exporter": "python",
   "pygments_lexer": "ipython3",
   "version": "3.12.8"
  }
 },
 "nbformat": 4,
 "nbformat_minor": 2
}
