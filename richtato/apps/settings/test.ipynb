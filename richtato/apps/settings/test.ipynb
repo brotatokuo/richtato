{
 "cells": [
  {
   "cell_type": "code",
   "execution_count": 6,
   "metadata": {},
   "outputs": [
    {
     "name": "stdout",
     "output_type": "stream",
     "text": [
      "            type    name     description\n",
      "0      Essential  Salary  Monthly salary\n",
      "1  Non Essential  Salary  Monthly salary\n",
      "2  Non Essential  Salary  Monthly salary\n"
     ]
    }
   ],
   "source": [
    "class Category():\n",
    "    CATEGORY_TYPES = [\n",
    "        ('essential', \"Essential\"),\n",
    "        ('nonessential', \"Non Essential\"),\n",
    "    ]\n",
    "\n",
    "import pandas as pd\n",
    "data = [{\n",
    "    \"type\": \"Essential\",\n",
    "    \"name\": \"Salary\",\n",
    "    \"description\": \"Monthly salary\"\n",
    "},\n",
    "{\n",
    "    \"type\": \"Non Essential\",\n",
    "    \"name\": \"Salary\",\n",
    "    \"description\": \"Monthly salary\"\n",
    "},\n",
    "{\n",
    "    \"type\": \"Non Essential\",\n",
    "    \"name\": \"Salary\",\n",
    "    \"description\": \"Monthly salary\"\n",
    "},\n",
    "\n",
    "]\n",
    "\n",
    "df = pd.DataFrame(data)\n",
    "print(df)\n"
   ]
  },
  {
   "cell_type": "code",
   "execution_count": 7,
   "metadata": {},
   "outputs": [
    {
     "name": "stdout",
     "output_type": "stream",
     "text": [
      "essential\n",
      "nonessential\n",
      "nonessential\n"
     ]
    }
   ],
   "source": [
    "for index, row in df.iterrows():\n",
    "    category_type = next((key for key, value in Category.CATEGORY_TYPES if value == row[\"type\"]), None)\n",
    "    # category_type = next((value for key, value in Category.CATEGORY_TYPES if key == row[\"type\"]), None)\n",
    "    print(category_type)"
   ]
  }
 ],
 "metadata": {
  "kernelspec": {
   "display_name": "richtato",
   "language": "python",
   "name": "python3"
  },
  "language_info": {
   "codemirror_mode": {
    "name": "ipython",
    "version": 3
   },
   "file_extension": ".py",
   "mimetype": "text/x-python",
   "name": "python",
   "nbconvert_exporter": "python",
   "pygments_lexer": "ipython3",
   "version": "3.11.10"
  }
 },
 "nbformat": 4,
 "nbformat_minor": 2
}
